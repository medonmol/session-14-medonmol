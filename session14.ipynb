{
 "cells": [
  {
   "cell_type": "code",
   "execution_count": 7,
   "source": [
    "from importlib import reload\r\n",
    "import session14\r\n",
    "reload(session14)"
   ],
   "outputs": [
    {
     "output_type": "execute_result",
     "data": {
      "text/plain": [
       "<module 'session14' from 'e:\\\\TSAI\\\\EPAi_3\\\\session-14-medonmol\\\\session14.py'>"
      ]
     },
     "metadata": {},
     "execution_count": 7
    }
   ],
   "metadata": {}
  },
  {
   "cell_type": "markdown",
   "source": [
    "# Question 1"
   ],
   "metadata": {}
  },
  {
   "cell_type": "code",
   "execution_count": 274,
   "source": [
    "emp_it = session14.EmployeeIterator()\r\n",
    "pif_it = session14.PersonalIterator()\r\n",
    "ups_it = session14.UpdateIterator()\r\n",
    "veh_it = session14.VehiclesIterator()"
   ],
   "outputs": [],
   "metadata": {}
  },
  {
   "cell_type": "code",
   "execution_count": 276,
   "source": [
    "print(next(emp_it))\r\n",
    "print(next(pif_it))\r\n",
    "print(next(ups_it))\r\n",
    "print(next(veh_it))"
   ],
   "outputs": [
    {
     "output_type": "stream",
     "name": "stdout",
     "text": [
      "Employee(employer='Stiedemann-Bailey', department='Research and Development', employee_id='29-0890771', ssn='100-53-9824')\n",
      "PersonalInfo(ssn='100-53-9824', first_name='Sebastiano', last_name='Tester', gender='Male', language='Icelandic')\n",
      "UpdateStatus(ssn='100-53-9824', last_updated=datetime.datetime(2017, 10, 7, 0, 14, 42, tzinfo=datetime.timezone.utc), created=datetime.datetime(2016, 1, 24, 21, 19, 30, tzinfo=datetime.timezone.utc))\n",
      "Vehicles(ssn='100-53-9824', vehicle_make='Oldsmobile', vehicle_model='Bravada', model_year=datetime.datetime(1993, 1, 1, 0, 0))\n"
     ]
    }
   ],
   "metadata": {}
  },
  {
   "cell_type": "markdown",
   "source": [
    "# Question2"
   ],
   "metadata": {}
  },
  {
   "cell_type": "code",
   "execution_count": 3,
   "source": [
    "x = session14.MergedIterable()\r\n",
    "for _ in range(5):\r\n",
    "    print(next(iter(x)))"
   ],
   "outputs": [
    {
     "output_type": "stream",
     "name": "stdout",
     "text": [
      "AllData(ssn='100-53-9824', first_name='Sebastiano', last_name='Tester', gender='Male', language='Icelandic', employer='Stiedemann-Bailey', department='Research and Development', employee_id='29-0890771', vehicle_make='Oldsmobile', vehicle_model='Bravada', model_year=datetime.datetime(1993, 1, 1, 0, 0), created=datetime.datetime(2016, 1, 24, 21, 19, 30, tzinfo=datetime.timezone.utc), last_updated=datetime.datetime(2017, 10, 7, 0, 14, 42, tzinfo=datetime.timezone.utc))\n",
      "AllData(ssn='101-71-4702', first_name='Cayla', last_name='MacDonagh', gender='Female', language='Lao', employer='Nicolas and Sons', department='Sales', employee_id='41-6841359', vehicle_make='Ford', vehicle_model='Mustang', model_year=datetime.datetime(1997, 1, 1, 0, 0), created=datetime.datetime(2016, 1, 27, 4, 32, 57, tzinfo=datetime.timezone.utc), last_updated=datetime.datetime(2017, 1, 23, 11, 23, 17, tzinfo=datetime.timezone.utc))\n",
      "AllData(ssn='101-84-0356', first_name='Nomi', last_name='Lipprose', gender='Female', language='Yiddish', employer='Connelly Group', department='Research and Development', employee_id='98-7952860', vehicle_make='GMC', vehicle_model='Yukon', model_year=datetime.datetime(2005, 1, 1, 0, 0), created=datetime.datetime(2016, 9, 21, 23, 4, 7, tzinfo=datetime.timezone.utc), last_updated=datetime.datetime(2017, 10, 4, 11, 21, 30, tzinfo=datetime.timezone.utc))\n",
      "AllData(ssn='104-22-0928', first_name='Justinian', last_name='Kunzelmann', gender='Male', language='Dhivehi', employer='Upton LLC', department='Marketing', employee_id='56-9817552', vehicle_make='Oldsmobile', vehicle_model='Intrigue', model_year=datetime.datetime(2000, 1, 1, 0, 0), created=datetime.datetime(2016, 4, 15, 11, 37, 17, tzinfo=datetime.timezone.utc), last_updated=datetime.datetime(2017, 3, 28, 12, 38, 29, tzinfo=datetime.timezone.utc))\n",
      "AllData(ssn='104-84-7144', first_name='Claudianus', last_name='Brixey', gender='Male', language='Afrikaans', employer='Zemlak-Olson', department='Business Development', employee_id='46-2886707', vehicle_make='Ford', vehicle_model='Crown Victoria', model_year=datetime.datetime(2008, 1, 1, 0, 0), created=datetime.datetime(2016, 3, 15, 14, 7, 57, tzinfo=datetime.timezone.utc), last_updated=datetime.datetime(2018, 2, 19, 1, 34, 33, tzinfo=datetime.timezone.utc))\n"
     ]
    }
   ],
   "metadata": {}
  },
  {
   "cell_type": "markdown",
   "source": [
    "# Question 3"
   ],
   "metadata": {}
  },
  {
   "cell_type": "code",
   "execution_count": 8,
   "source": [
    "p = session14.FilteredData()"
   ],
   "outputs": [],
   "metadata": {}
  },
  {
   "cell_type": "code",
   "execution_count": 9,
   "source": [
    "len([d for d in p])"
   ],
   "outputs": [
    {
     "output_type": "execute_result",
     "data": {
      "text/plain": [
       "997"
      ]
     },
     "metadata": {},
     "execution_count": 9
    }
   ],
   "metadata": {}
  },
  {
   "cell_type": "markdown",
   "source": [
    "# Question 4"
   ],
   "metadata": {}
  },
  {
   "cell_type": "code",
   "execution_count": 10,
   "source": [
    "session14.count_largest_car_group('Female')"
   ],
   "outputs": [
    {
     "output_type": "execute_result",
     "data": {
      "text/plain": [
       "{'Ford': 48}"
      ]
     },
     "metadata": {},
     "execution_count": 10
    }
   ],
   "metadata": {}
  },
  {
   "cell_type": "code",
   "execution_count": 21,
   "source": [
    "session14.count_largest_car_group('Male')"
   ],
   "outputs": [
    {
     "output_type": "execute_result",
     "data": {
      "text/plain": [
       "{'Ford': 44}"
      ]
     },
     "metadata": {},
     "execution_count": 21
    }
   ],
   "metadata": {}
  },
  {
   "cell_type": "markdown",
   "source": [
    "Verifying results .."
   ],
   "metadata": {}
  },
  {
   "cell_type": "code",
   "execution_count": 15,
   "source": [
    "import pandas as pd\r\n",
    "vehicle_gender_data = pd.merge(pd.merge(pd.read_csv('Assignment/personal_info.csv'), pd.read_csv('Assignment/vehicles.csv')), pd.read_csv('Assignment/update_status.csv'))\r\n",
    "vehicle_gender_data['last_updated'] = pd.to_datetime(vehicle_gender_data['last_updated']).dt.tz_localize(None)\r\n",
    "vehicle_gender_data = vehicle_gender_data[vehicle_gender_data['last_updated'] > pd.Timestamp('2017-01-03')]\r\n",
    "vehicle_gender_data.head()\r\n"
   ],
   "outputs": [
    {
     "output_type": "execute_result",
     "data": {
      "text/plain": [
       "           ssn  first_name   last_name  gender   language vehicle_make  \\\n",
       "0  100-53-9824  Sebastiano      Tester    Male  Icelandic   Oldsmobile   \n",
       "1  101-71-4702       Cayla   MacDonagh  Female        Lao         Ford   \n",
       "2  101-84-0356        Nomi    Lipprose  Female    Yiddish          GMC   \n",
       "3  104-22-0928   Justinian  Kunzelmann    Male    Dhivehi   Oldsmobile   \n",
       "4  104-84-7144  Claudianus      Brixey    Male  Afrikaans         Ford   \n",
       "\n",
       "    vehicle_model  model_year        last_updated               created  \n",
       "0         Bravada        1993 2017-10-07 00:14:42  2016-01-24T21:19:30Z  \n",
       "1         Mustang        1997 2017-01-23 11:23:17  2016-01-27T04:32:57Z  \n",
       "2           Yukon        2005 2017-10-04 11:21:30  2016-09-21T23:04:07Z  \n",
       "3        Intrigue        2000 2017-03-28 12:38:29  2016-04-15T11:37:17Z  \n",
       "4  Crown Victoria        2008 2018-02-19 01:34:33  2016-03-15T14:07:57Z  "
      ],
      "text/html": [
       "<div>\n",
       "<style scoped>\n",
       "    .dataframe tbody tr th:only-of-type {\n",
       "        vertical-align: middle;\n",
       "    }\n",
       "\n",
       "    .dataframe tbody tr th {\n",
       "        vertical-align: top;\n",
       "    }\n",
       "\n",
       "    .dataframe thead th {\n",
       "        text-align: right;\n",
       "    }\n",
       "</style>\n",
       "<table border=\"1\" class=\"dataframe\">\n",
       "  <thead>\n",
       "    <tr style=\"text-align: right;\">\n",
       "      <th></th>\n",
       "      <th>ssn</th>\n",
       "      <th>first_name</th>\n",
       "      <th>last_name</th>\n",
       "      <th>gender</th>\n",
       "      <th>language</th>\n",
       "      <th>vehicle_make</th>\n",
       "      <th>vehicle_model</th>\n",
       "      <th>model_year</th>\n",
       "      <th>last_updated</th>\n",
       "      <th>created</th>\n",
       "    </tr>\n",
       "  </thead>\n",
       "  <tbody>\n",
       "    <tr>\n",
       "      <th>0</th>\n",
       "      <td>100-53-9824</td>\n",
       "      <td>Sebastiano</td>\n",
       "      <td>Tester</td>\n",
       "      <td>Male</td>\n",
       "      <td>Icelandic</td>\n",
       "      <td>Oldsmobile</td>\n",
       "      <td>Bravada</td>\n",
       "      <td>1993</td>\n",
       "      <td>2017-10-07 00:14:42</td>\n",
       "      <td>2016-01-24T21:19:30Z</td>\n",
       "    </tr>\n",
       "    <tr>\n",
       "      <th>1</th>\n",
       "      <td>101-71-4702</td>\n",
       "      <td>Cayla</td>\n",
       "      <td>MacDonagh</td>\n",
       "      <td>Female</td>\n",
       "      <td>Lao</td>\n",
       "      <td>Ford</td>\n",
       "      <td>Mustang</td>\n",
       "      <td>1997</td>\n",
       "      <td>2017-01-23 11:23:17</td>\n",
       "      <td>2016-01-27T04:32:57Z</td>\n",
       "    </tr>\n",
       "    <tr>\n",
       "      <th>2</th>\n",
       "      <td>101-84-0356</td>\n",
       "      <td>Nomi</td>\n",
       "      <td>Lipprose</td>\n",
       "      <td>Female</td>\n",
       "      <td>Yiddish</td>\n",
       "      <td>GMC</td>\n",
       "      <td>Yukon</td>\n",
       "      <td>2005</td>\n",
       "      <td>2017-10-04 11:21:30</td>\n",
       "      <td>2016-09-21T23:04:07Z</td>\n",
       "    </tr>\n",
       "    <tr>\n",
       "      <th>3</th>\n",
       "      <td>104-22-0928</td>\n",
       "      <td>Justinian</td>\n",
       "      <td>Kunzelmann</td>\n",
       "      <td>Male</td>\n",
       "      <td>Dhivehi</td>\n",
       "      <td>Oldsmobile</td>\n",
       "      <td>Intrigue</td>\n",
       "      <td>2000</td>\n",
       "      <td>2017-03-28 12:38:29</td>\n",
       "      <td>2016-04-15T11:37:17Z</td>\n",
       "    </tr>\n",
       "    <tr>\n",
       "      <th>4</th>\n",
       "      <td>104-84-7144</td>\n",
       "      <td>Claudianus</td>\n",
       "      <td>Brixey</td>\n",
       "      <td>Male</td>\n",
       "      <td>Afrikaans</td>\n",
       "      <td>Ford</td>\n",
       "      <td>Crown Victoria</td>\n",
       "      <td>2008</td>\n",
       "      <td>2018-02-19 01:34:33</td>\n",
       "      <td>2016-03-15T14:07:57Z</td>\n",
       "    </tr>\n",
       "  </tbody>\n",
       "</table>\n",
       "</div>"
      ]
     },
     "metadata": {},
     "execution_count": 15
    }
   ],
   "metadata": {}
  },
  {
   "cell_type": "code",
   "execution_count": 40,
   "source": [
    "vehicle_gender_data.groupby(['gender', 'vehicle_make']).size().sort_values(ascending=True).groupby(level=0).tail(1).reset_index(name='count')"
   ],
   "outputs": [
    {
     "output_type": "execute_result",
     "data": {
      "text/plain": [
       "   gender vehicle_make  count\n",
       "0    Male         Ford     44\n",
       "1  Female         Ford     48"
      ],
      "text/html": [
       "<div>\n",
       "<style scoped>\n",
       "    .dataframe tbody tr th:only-of-type {\n",
       "        vertical-align: middle;\n",
       "    }\n",
       "\n",
       "    .dataframe tbody tr th {\n",
       "        vertical-align: top;\n",
       "    }\n",
       "\n",
       "    .dataframe thead th {\n",
       "        text-align: right;\n",
       "    }\n",
       "</style>\n",
       "<table border=\"1\" class=\"dataframe\">\n",
       "  <thead>\n",
       "    <tr style=\"text-align: right;\">\n",
       "      <th></th>\n",
       "      <th>gender</th>\n",
       "      <th>vehicle_make</th>\n",
       "      <th>count</th>\n",
       "    </tr>\n",
       "  </thead>\n",
       "  <tbody>\n",
       "    <tr>\n",
       "      <th>0</th>\n",
       "      <td>Male</td>\n",
       "      <td>Ford</td>\n",
       "      <td>44</td>\n",
       "    </tr>\n",
       "    <tr>\n",
       "      <th>1</th>\n",
       "      <td>Female</td>\n",
       "      <td>Ford</td>\n",
       "      <td>48</td>\n",
       "    </tr>\n",
       "  </tbody>\n",
       "</table>\n",
       "</div>"
      ]
     },
     "metadata": {},
     "execution_count": 40
    }
   ],
   "metadata": {}
  }
 ],
 "metadata": {
  "orig_nbformat": 4,
  "language_info": {
   "name": "python",
   "version": "3.9.1",
   "mimetype": "text/x-python",
   "codemirror_mode": {
    "name": "ipython",
    "version": 3
   },
   "pygments_lexer": "ipython3",
   "nbconvert_exporter": "python",
   "file_extension": ".py"
  },
  "kernelspec": {
   "name": "python3",
   "display_name": "Python 3.9.1 64-bit ('base': conda)"
  },
  "interpreter": {
   "hash": "9131c53ea609b1c83a4930f9ef9b895156b0f40bc80fb8f9ee0bf5a21c6927cd"
  }
 },
 "nbformat": 4,
 "nbformat_minor": 2
}